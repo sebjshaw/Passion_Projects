{
 "cells": [
  {
   "attachments": {},
   "cell_type": "markdown",
   "metadata": {},
   "source": [
    "# Data Analysis Practice on 2021 data"
   ]
  },
  {
   "attachments": {},
   "cell_type": "markdown",
   "metadata": {},
   "source": [
    "## Brainstorming of Questions\n",
    "1. Are there more break points in clay court matches?\n",
    "2. Is there a correlation between tournament level and length of match?\n",
    "3. Is there a correlation between length of match and difference between player rankings?\n",
    "4. Is there a correlation between 1st serve in % and break points faced?\n",
    "5. Is there a correlation between player height and no. aces?\n",
    "6. Who had the best tie break record in the calendar year?\n",
    "7. Is there a correlation between tie break percentage win and end of year ranking? (would need to get the end of year ranking form somewhere else I think)\n",
    "8. Is there a correlation between difference in total games won and difference in first serve in percentage (per match)?\n"
   ]
  },
  {
   "cell_type": "code",
   "execution_count": 13,
   "metadata": {},
   "outputs": [],
   "source": [
    "import pandas as pd\n",
    "import numpy as np\n",
    "import matplotlib.pyplot as plt\n",
    "import statsmodels.api as sm\n",
    "from typing import Union\n",
    "\n",
    "df = pd.read_csv('data/atp_matches_2021.csv')\n",
    "df = df.astype({'tourney_date':'string'})\n",
    "df.tourney_date = pd.to_datetime(df.tourney_date)\n",
    "pd.set_option('display.max_columns', None)\n",
    "df = df.sort_values(by =['tourney_date', 'match_num'])\n",
    "df = df.reset_index()"
   ]
  },
  {
   "attachments": {},
   "cell_type": "markdown",
   "metadata": {},
   "source": [
    "## Dealing with the Score"
   ]
  },
  {
   "attachments": {},
   "cell_type": "markdown",
   "metadata": {},
   "source": [
    "### Total games won by winner and loser"
   ]
  },
  {
   "attachments": {},
   "cell_type": "markdown",
   "metadata": {},
   "source": [
    "The score for each set can be in one of 6 formats:\n",
    "1. 6-x\n",
    "2. x-6\n",
    "3. 7-5\n",
    "4. 5-7\n",
    "5. 7-6(x)\n",
    "6. (x)6-7\n",
    "\n",
    "- From these formats, winner_games_won and loser_games_won can be calculated. Conveniently, winner's games is always quoted first (even if it goes to three sets) so once split these can just be calculated as such. \n",
    "\n",
    "- [Edit]: Inevitably encountered some alternative formats such as `4-6 6-3 [7-10]` which is when they had a first to 10 tie break to decide the match instead of a third set in some formats (usually doubles)\n",
    "\n",
    "- Now I have number of games won for each player, paired with number of break points faced, number of break points saved and total number of service games, I can find how many service games they won and lost. "
   ]
  },
  {
   "cell_type": "code",
   "execution_count": 69,
   "metadata": {},
   "outputs": [],
   "source": [
    "def get_winner_games_won(score: str) -> int:\n",
    "    \"\"\"Takes in the score for the match and returns the number of games won by the winner\n",
    "\n",
    "    Args:\n",
    "        score (str): The score as a string \n",
    "\n",
    "    Returns:\n",
    "        Int : The winners total games won\n",
    "    \"\"\"\n",
    "    w_games = 0\n",
    "    sets = score.split(' ')\n",
    "    for set in sets:\n",
    "        if 'R' in set or 'W' in set or 'Def.' in set or '[' in set:\n",
    "            continue \n",
    "        if set[0] == '(':\n",
    "            w_games += 6\n",
    "            continue\n",
    "        if set[-1] == ')':\n",
    "            w_games += 7\n",
    "            continue \n",
    "        games = set.split('-')\n",
    "        w_games += int(games[0])\n",
    "    return w_games\n",
    "\n",
    "def get_loser_games_won(score: str) -> int:\n",
    "    \"\"\"Takes in the score for the match and returns the number of games won by the loser \n",
    "\n",
    "    Args:\n",
    "        score (str): The score as a string \n",
    "\n",
    "    Returns:\n",
    "        int: The losers total games won\n",
    "    \"\"\"\n",
    "    l_games = 0\n",
    "    sets = score.split(' ')\n",
    "    for set in sets:\n",
    "        if 'R' in set or 'W' in set or 'Def.' in set or '[' in set:\n",
    "            continue \n",
    "        if set[0] == '(':\n",
    "            l_games += 7\n",
    "            continue\n",
    "        if set[-1] == ')':\n",
    "            l_games += 6\n",
    "            continue \n",
    "        games = set.split('-')\n",
    "        l_games += int(games[1])\n",
    "    return l_games"
   ]
  },
  {
   "cell_type": "code",
   "execution_count": 70,
   "metadata": {},
   "outputs": [],
   "source": [
    "df['w_games'] = df['score'].apply(lambda x: get_winner_games_won(x))\n",
    "df['l_games'] = df['score'].apply(lambda x: get_loser_games_won(x))"
   ]
  },
  {
   "attachments": {},
   "cell_type": "markdown",
   "metadata": {},
   "source": [
    "### Tie breaks "
   ]
  },
  {
   "attachments": {},
   "cell_type": "markdown",
   "metadata": {},
   "source": [
    "Can make a tally of number of tie breaks in a match and who won. Can use this data to discover who had the best tie break record in the season etc. "
   ]
  },
  {
   "cell_type": "markdown",
   "metadata": {},
   "source": []
  }
 ],
 "metadata": {
  "kernelspec": {
   "display_name": "Python 3",
   "language": "python",
   "name": "python3"
  },
  "language_info": {
   "codemirror_mode": {
    "name": "ipython",
    "version": 3
   },
   "file_extension": ".py",
   "mimetype": "text/x-python",
   "name": "python",
   "nbconvert_exporter": "python",
   "pygments_lexer": "ipython3",
   "version": "3.11.1"
  },
  "orig_nbformat": 4
 },
 "nbformat": 4,
 "nbformat_minor": 2
}
