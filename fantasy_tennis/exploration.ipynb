{
 "cells": [
  {
   "attachments": {},
   "cell_type": "markdown",
   "metadata": {},
   "source": [
    "# Notebook for exploring and testing the data "
   ]
  },
  {
   "cell_type": "code",
   "execution_count": 4,
   "metadata": {},
   "outputs": [],
   "source": [
    "import sqlwrapper\n",
    "import pandas as pd \n",
    "from datetime import datetime \n",
    "from dateutil.relativedelta import relativedelta, MO\n",
    "import plotly_express as px\n",
    "\n",
    "def connect_to_database(path: str) -> sqlwrapper.SQLConnection: \n",
    "    \"\"\"Establishes a connection with the local database to allow querying of the data  \n",
    "\n",
    "    Args:\n",
    "        path (str): the path to the database\n",
    "\n",
    "    Returns:\n",
    "        sqlwrapper.SQLConnection: the connection established with the database\n",
    "    \"\"\"\n",
    "\n",
    "    try:\n",
    "        db = sqlwrapper.SQLConnection(path)\n",
    "    except:\n",
    "        print(\"Connection failed\")\n",
    "    \n",
    "    return db\n",
    "\n",
    "db = connect_to_database('/Users/seb/Desktop/passion_projects/fantasy_tennis/players_points.db')"
   ]
  },
  {
   "attachments": {},
   "cell_type": "markdown",
   "metadata": {},
   "source": [
    "## Backfilling the database with the previous weeks data "
   ]
  },
  {
   "cell_type": "code",
   "execution_count": 29,
   "metadata": {},
   "outputs": [],
   "source": [
    "from main import get_html_soup, parse_tags_from_soup\n",
    "\n",
    "def create_dataframe_of_this_weeks_total_points(player_names: list, player_points: list, week_begin: str) -> pd.DataFrame:\n",
    "    new_player_names = player_names\n",
    "    # for name in player_names:\n",
    "    #     split_name = name.split(' ') # splits name \n",
    "    #     first_name = split_name[len(split_name) - 1] # takes last word (the players first name)\n",
    "    #     last_name = name.replace(f' {first_name}', '') # removes first name from original string to leave last name only \n",
    "    #     new_player_names.append(f\"{first_name} {last_name}\") # recombines first and last name and adds to new list\n",
    "\n",
    "    # week_begin = str((datetime.today() - relativedelta(weekday=MO(-1))).date())\n",
    "    week_begin_list = [week_begin for i in range(250)]\n",
    "    df = pd.DataFrame(list(zip(new_player_names, player_points, week_begin_list)), columns=['player_name', 'player_total_points', 'week_begin'])\n",
    "\n",
    "    return df\n"
   ]
  },
  {
   "cell_type": "code",
   "execution_count": 6,
   "metadata": {},
   "outputs": [
    {
     "name": "stdout",
     "output_type": "stream",
     "text": [
      "New points already uploaded this week\n"
     ]
    }
   ],
   "source": [
    "week_begin = '2023-01-30'\n",
    "URLS = {\n",
    "    \"0-50\":\"https://www.tennisexplorer.com/ranking/atp-men/?date=2023-01-30&t=race\", \n",
    "    \"51-100\":\"https://www.tennisexplorer.com/ranking/atp-men/?t=race&date=2023-01-30&page=2\",\n",
    "    \"101-150\":\"https://www.tennisexplorer.com/ranking/atp-men/?t=race&date=2023-01-30&page=3\",\n",
    "    \"151-200\":\"https://www.tennisexplorer.com/ranking/atp-men/?t=race&date=2023-01-30&page=4\",\n",
    "    \"201-250\":\"https://www.tennisexplorer.com/ranking/atp-men/?t=race&date=2023-01-30&page=5\"\n",
    "}\n",
    "weeks_names = []\n",
    "weeks_points = []\n",
    "for url in URLS:\n",
    "    soup = get_html_soup(URLS[url])\n",
    "    weeks_names = parse_tags_from_soup(soup, 't-name', weeks_names)\n",
    "    weeks_points = parse_tags_from_soup(soup, 'long-point', weeks_points)\n",
    "    weeks_points.remove('Points')\n",
    "df = create_dataframe_of_this_weeks_total_points(weeks_names, weeks_points, week_begin)\n",
    "print(db.append(df))"
   ]
  },
  {
   "attachments": {},
   "cell_type": "markdown",
   "metadata": {},
   "source": [
    "## Setting the top 250 at the end of the AO to 0 points at the start of the calendar year "
   ]
  },
  {
   "cell_type": "code",
   "execution_count": 31,
   "metadata": {},
   "outputs": [
    {
     "name": "stdout",
     "output_type": "stream",
     "text": [
      "['Novak Djokovic', 'Stefanos Tsitsipas', 'Karen Khachanov', 'Tommy Paul', 'Ben Shelton', 'Sebastian Korda', 'Jiri Lehecka', 'Cameron Norrie', 'Taylor Fritz', 'Andrey Rublev', 'Roberto Bautista-Agut', 'Frances Tiafoe', 'Tallon Griekspoor', 'Marton Fucsovics', 'Woo Kwon Soon', 'Yoshihito Nishioka', 'Yosuke Watanuki', 'Richard Gasquet', 'Hubert Hurkacz', 'Leandro Riedi', 'Benjamin Bonzi', 'Alex De Minaur', 'Jannik Sinner', 'Michael Mmoh', 'John Wolf Jeffrey', 'Alexei Popyrin', 'Felix Auger Aliassime', 'Holger Rune', 'Jenson Brooksby', 'Daniil Medvedev', 'Arthur Fils', 'Matteo Berrettini', 'David Goffin', 'Gregoire Barrere', 'Luca Van Assche', 'Aleksandar Vukic', 'Christopher Eubanks', 'Thanasi Kokkinakis', 'Mikael Ymer', 'Jason Kubler', 'Denis Shapovalov', 'Botic Van De Zandschulp', 'Constant Lestienne', 'Oleksii Krutykh', 'Mackenzie McDonald', 'Manuel Cerundolo Juan', 'Tomas Machac', 'Daniel Evans', 'Enzo Couacaud', 'Lloyd Harris', 'Jack Draper', 'Joris De Loore', 'Ferreira Silva Frederico', 'Hugo Gaston', 'Federico Coria', 'Dennis Novak', 'Arthur Cazaux', 'Raul Brancaccio', 'Grigor Dimitrov', 'Pablo Varillas Juan', 'Guido Andreozzi', 'Vasek Pospisil', 'Laslo Djere', 'Alexander Shevchenko', 'Martin Etcheverry Tomas', 'Facundo Bagnis', 'Yannick Hanfmann', 'Chan Hong Seong', 'Aslan Karatsev', 'Tung-lin Wu', 'Andrea Collarini', 'Fabian Marozsan', 'Laurent Lokoli', 'John Millman', 'Nicolas Kicker', 'Borna Gojo', 'Francisco Cerundolo', 'Andy Murray', 'Ugo Humbert', 'Alejandro Davidovich Fokina', 'Lorenzo Musetti', 'Dusan Lajovic', 'Timofey Skatov', 'Sebastian Ofner', 'Facundo Diaz Acosta', 'Sho Shimabukuro', 'Borna Coric', 'Antoine Escoffier', 'Maximilian Marterer', 'Maximilian Neuchrist', 'Cem Ilkel', 'Marek Gengel', 'Daniel Rincon', 'Mikhail Kukushkin', 'Alberto Olivieri Genaro', 'Terence Atmane', 'Dominik Koepfer', 'Kaichi Uchida', 'Dalibor Svrcina', 'Dino Prizmic', 'Marcos Giron', 'Quentin Halys', 'Miomir Kecmanovic', 'Gauthier Onclin', 'Jan-Lennard Struff', 'Nicolas Jarry', 'Brandon Holt', 'Juncheng Shang', 'Adrian Mannarino', 'Casper Ruud', 'Otto Virtanen', 'Pablo Llamas Ruiz', 'Henri Laaksonen', 'Adrian Andreev', 'Hsiou Hsu Yu', 'Jason Jung', 'Marc-Andrea Huesler', 'Jakub Mensik', 'Rinky Hijikata', 'Lorenzo Giustino', 'Dimitar Kuzmanov', 'Thiago Seyboth Wild', 'Geoffrey Blancaneaux', 'Denis Kudla', 'Cristian Jianu Filip', 'Zizou Bergs', 'Michael Geerts', 'Felipe Meligeni Rodrigues Alves', 'Max Purcell', 'Clement Chidekh', 'Tomas Barrios Vera Marcelo', 'Jurij Rodionov', 'Prajnesh Gunneswaran', 'Filip Krajinovic', 'Pedro Martinez', 'Altug Celikbilek', 'Nicolas Mejia', 'Alex Michelsen', 'Nick Hardt', 'Murkel Dellien', 'Bogdan Bobrov', 'Taro Daniel', 'Ryan Peniston', 'Oriol Roca Batalla', 'Emilio Gomez', 'Arthur Rinderknech', 'Calvin Hemery', 'Steven Diez', 'Renzo Olivo', 'Marc Polmans', 'Shintaro Mochizuki', 'Mattia Bellucci', 'Nuno Borges', 'Gustavo Heide', 'Tennys Sandgren', 'David Ionel Nicholas', 'Bu Yunchaokete', 'Nicolae Madaras Dragos', 'Pavel Kotov', 'Hugo Dellien', 'Cristian Garin', \"Christopher O'Connell\", 'Aleksandar Kovacevic', 'Dominik Palan', 'Omni Kumar', 'Jeremy Chardy', 'Corentin Moutet', 'Pablo Carreno-Busta', 'Maxime Cressy', 'Rafael Nadal', 'Diego Schwartzman', 'Alexander Zverev', 'Alex Molcan', 'Emil Ruusuvuori', 'Lorenzo Sonego', 'Stan Wawrinka', 'Marin Cilic', 'Maks Kasnikowski', 'Ricardas Berankis', 'Riccardo Bonadio', 'Moez Echargui', 'Alejandro Tabilo', 'Evgeny Donskoy', 'Camilo Ugo Carabelli', 'Vladyslav Orlov', 'Alvaro Lopez San Martin', 'Bautista Torres Juan', 'Skander Mansouri', 'Stefano Travaglia', 'Ernesto Escobedo', 'Roman Safiullin', 'Damir Dzumhur', 'Dominic Stricker', 'Mate Valkusz', 'Francesco Maestrelli', 'Jesper De Jong', 'Andres Burruchaga Roman', 'Hoang Ly Nam', 'Marco Trungelliti', 'Tristan Schoolkate', 'Flavio Cobolli', 'Gonzalo Lama', 'Daniel Altmaier', 'Jelle Sels', 'Alexis Galarneau', 'Charles Broom', 'James Duckworth', 'Gabriel Diallo', 'Evgeny Karlovskiy', 'Eduardo Ribeiro', 'Nikola Milojevic', 'Raphael Collignon', 'Alibek Kachmazov', 'Roberto Carballes Baena', 'Norbert Gombos', 'Tim Van Rijthoven', 'Abedallah Shelbayh', 'Nino Serdarusic', 'Oliver Crawford', 'Giovanni Fonio', 'Franco Descotte Matias', 'Kris Van Wyk', 'Colin Sinclair', 'Vitaliy Sachko', 'Alessandro Giannessi', 'Arthur Weber', 'Lucas Reis Da Silva Joao', 'Jan Choinski', 'Timo Stodder', 'Marco Moroni Gian', 'Alejandro Moro Canas', 'Illya Marchenko', 'Bernard Tomic', 'Benoit Paire', 'Lucas Gerch', 'Ugo Blanchet', 'Mark Lajal', 'Hernan Casanova', 'Liam Broady', 'Omar Jasika', 'Robin Haase', 'Elliot Benchetrit', 'Luciano Darderi', 'Constantin Bittoun Kouzmine', 'Stefanos Sakellaridis', 'Harold Mayot', 'Ivan Gakhov', 'Kacper Zuk', 'Aziz Dougaz', 'Robert Strombachs']\n",
      "Successfully appended new points totals\n"
     ]
    }
   ],
   "source": [
    "# initial_250 = db.select(\"\"\"SELECT * FROM players_points WHERE week_begin == '2023-01-30'\"\"\")\n",
    "# names = list(initial_250['player_name'])\n",
    "# points = [0]*250\n",
    "# week_begin = '2023-01-02'\n",
    "# df_first = create_dataframe_of_this_weeks_total_points(names, points, week_begin)\n",
    "# print(db.append(df_first))"
   ]
  },
  {
   "attachments": {},
   "cell_type": "markdown",
   "metadata": {},
   "source": [
    "## Current Top 10 Players"
   ]
  },
  {
   "cell_type": "code",
   "execution_count": 39,
   "metadata": {},
   "outputs": [
    {
     "name": "stdout",
     "output_type": "stream",
     "text": [
      "          player_name  player_total_points  week_begin\n",
      "0      Novak Djokovic                 2430  2023-03-06\n",
      "1  Stefanos Tsitsipas                 1470  2023-03-06\n",
      "2     Daniil Medvedev                 1430  2023-03-06\n",
      "3          Tommy Paul                 1085  2023-03-06\n",
      "4      Cameron Norrie                 1065  2023-03-06\n",
      "5        Taylor Fritz                  915  2023-03-06\n",
      "6      Alex De Minaur                  870  2023-03-06\n",
      "7     Karen Khachanov                  810  2023-03-06\n",
      "8       Jannik Sinner                  775  2023-03-06\n",
      "9       Andrey Rublev                  705  2023-03-06\n"
     ]
    }
   ],
   "source": [
    "current_top_10 = db.select(\"\"\"\n",
    "    SELECT * FROM players_points\n",
    "    ORDER BY week_begin DESC, player_total_points DESC\n",
    "    LIMIT 10\n",
    "\"\"\")\n",
    "\n",
    "print(current_top_10)"
   ]
  },
  {
   "cell_type": "code",
   "execution_count": 51,
   "metadata": {},
   "outputs": [],
   "source": [
    "# Had to first select Novak in order to be able to concat afterwards. Looking for a cleaner way to do this \n",
    "\n",
    "all_top_10_points = db.select(f\"\"\"\n",
    "        SELECT * FROM players_points\n",
    "        WHERE player_name = 'Novak Djokovic'\n",
    "    \"\"\") \n",
    "top_10 = list(current_top_10['player_name'])\n",
    "top_10.pop(0)\n",
    "\n",
    "for name in top_10:\n",
    "    all_top_10_points = pd.concat([all_top_10_points, db.select(f\"\"\"\n",
    "        SELECT * FROM players_points\n",
    "        WHERE player_name = '{name}'\n",
    "    \"\"\")])\n"
   ]
  },
  {
   "cell_type": "code",
   "execution_count": 54,
   "metadata": {},
   "outputs": [
    {
     "data": {
      "application/vnd.plotly.v1+json": {
       "config": {
        "plotlyServerURL": "https://plot.ly"
       },
       "data": [
        {
         "hovertemplate": "Player=Novak Djokovic<br>Week Beginning=%{x}<br>Total Points=%{y}<extra></extra>",
         "legendgroup": "Novak Djokovic",
         "line": {
          "color": "#636efa",
          "dash": "solid"
         },
         "marker": {
          "symbol": "circle"
         },
         "mode": "markers+lines",
         "name": "Novak Djokovic",
         "orientation": "v",
         "showlegend": true,
         "type": "scatter",
         "x": [
          "2023-01-02",
          "2023-01-30",
          "2023-02-06",
          "2023-02-13",
          "2023-02-20",
          "2023-02-27",
          "2023-03-06"
         ],
         "xaxis": "x",
         "y": [
          0,
          2250,
          2250,
          2250,
          2250,
          2250,
          2430
         ],
         "yaxis": "y"
        },
        {
         "hovertemplate": "Player=Stefanos Tsitsipas<br>Week Beginning=%{x}<br>Total Points=%{y}<extra></extra>",
         "legendgroup": "Stefanos Tsitsipas",
         "line": {
          "color": "#EF553B",
          "dash": "solid"
         },
         "marker": {
          "symbol": "circle"
         },
         "mode": "markers+lines",
         "name": "Stefanos Tsitsipas",
         "orientation": "v",
         "showlegend": true,
         "type": "scatter",
         "x": [
          "2023-01-02",
          "2023-01-30",
          "2023-02-06",
          "2023-02-13",
          "2023-02-20",
          "2023-02-27",
          "2023-03-06"
         ],
         "xaxis": "x",
         "y": [
          0,
          1425,
          1425,
          1425,
          1470,
          1470,
          1470
         ],
         "yaxis": "y"
        },
        {
         "hovertemplate": "Player=Daniil Medvedev<br>Week Beginning=%{x}<br>Total Points=%{y}<extra></extra>",
         "legendgroup": "Daniil Medvedev",
         "line": {
          "color": "#00cc96",
          "dash": "solid"
         },
         "marker": {
          "symbol": "circle"
         },
         "mode": "markers+lines",
         "name": "Daniil Medvedev",
         "orientation": "v",
         "showlegend": true,
         "type": "scatter",
         "x": [
          "2023-01-02",
          "2023-01-30",
          "2023-02-06",
          "2023-02-13",
          "2023-02-20",
          "2023-02-27",
          "2023-03-06"
         ],
         "xaxis": "x",
         "y": [
          0,
          180,
          180,
          180,
          680,
          930,
          1430
         ],
         "yaxis": "y"
        },
        {
         "hovertemplate": "Player=Tommy Paul<br>Week Beginning=%{x}<br>Total Points=%{y}<extra></extra>",
         "legendgroup": "Tommy Paul",
         "line": {
          "color": "#ab63fa",
          "dash": "solid"
         },
         "marker": {
          "symbol": "circle"
         },
         "mode": "markers+lines",
         "name": "Tommy Paul",
         "orientation": "v",
         "showlegend": true,
         "type": "scatter",
         "x": [
          "2023-01-02",
          "2023-01-30",
          "2023-02-06",
          "2023-02-13",
          "2023-02-20",
          "2023-02-27",
          "2023-03-06"
         ],
         "xaxis": "x",
         "y": [
          0,
          740,
          740,
          740,
          785,
          785,
          1085
         ],
         "yaxis": "y"
        },
        {
         "hovertemplate": "Player=Cameron Norrie<br>Week Beginning=%{x}<br>Total Points=%{y}<extra></extra>",
         "legendgroup": "Cameron Norrie",
         "line": {
          "color": "#FFA15A",
          "dash": "solid"
         },
         "marker": {
          "symbol": "circle"
         },
         "mode": "markers+lines",
         "name": "Cameron Norrie",
         "orientation": "v",
         "showlegend": true,
         "type": "scatter",
         "x": [
          "2023-01-02",
          "2023-01-30",
          "2023-02-06",
          "2023-02-13",
          "2023-02-20",
          "2023-02-27",
          "2023-03-06"
         ],
         "xaxis": "x",
         "y": [
          0,
          415,
          415,
          415,
          565,
          1065,
          1065
         ],
         "yaxis": "y"
        },
        {
         "hovertemplate": "Player=Taylor Fritz<br>Week Beginning=%{x}<br>Total Points=%{y}<extra></extra>",
         "legendgroup": "Taylor Fritz",
         "line": {
          "color": "#19d3f3",
          "dash": "solid"
         },
         "marker": {
          "symbol": "circle"
         },
         "mode": "markers+lines",
         "name": "Taylor Fritz",
         "orientation": "v",
         "showlegend": true,
         "type": "scatter",
         "x": [
          "2023-01-02",
          "2023-01-30",
          "2023-02-06",
          "2023-02-13",
          "2023-02-20",
          "2023-02-27",
          "2023-03-06"
         ],
         "xaxis": "x",
         "y": [
          0,
          395,
          395,
          485,
          735,
          735,
          915
         ],
         "yaxis": "y"
        },
        {
         "hovertemplate": "Player=Alex De Minaur<br>Week Beginning=%{x}<br>Total Points=%{y}<extra></extra>",
         "legendgroup": "Alex De Minaur",
         "line": {
          "color": "#FF6692",
          "dash": "solid"
         },
         "marker": {
          "symbol": "circle"
         },
         "mode": "markers+lines",
         "name": "Alex De Minaur",
         "orientation": "v",
         "showlegend": true,
         "type": "scatter",
         "x": [
          "2023-01-02",
          "2023-01-30",
          "2023-02-06",
          "2023-02-13",
          "2023-02-20",
          "2023-02-27",
          "2023-03-06"
         ],
         "xaxis": "x",
         "y": [
          0,
          235,
          235,
          235,
          325,
          370,
          870
         ],
         "yaxis": "y"
        },
        {
         "hovertemplate": "Player=Karen Khachanov<br>Week Beginning=%{x}<br>Total Points=%{y}<extra></extra>",
         "legendgroup": "Karen Khachanov",
         "line": {
          "color": "#B6E880",
          "dash": "solid"
         },
         "marker": {
          "symbol": "circle"
         },
         "mode": "markers+lines",
         "name": "Karen Khachanov",
         "orientation": "v",
         "showlegend": true,
         "type": "scatter",
         "x": [
          "2023-01-02",
          "2023-01-30",
          "2023-02-06",
          "2023-02-13",
          "2023-02-20",
          "2023-02-27",
          "2023-03-06"
         ],
         "xaxis": "x",
         "y": [
          0,
          810,
          810,
          810,
          810,
          810,
          810
         ],
         "yaxis": "y"
        },
        {
         "hovertemplate": "Player=Jannik Sinner<br>Week Beginning=%{x}<br>Total Points=%{y}<extra></extra>",
         "legendgroup": "Jannik Sinner",
         "line": {
          "color": "#FF97FF",
          "dash": "solid"
         },
         "marker": {
          "symbol": "circle"
         },
         "mode": "markers+lines",
         "name": "Jannik Sinner",
         "orientation": "v",
         "showlegend": true,
         "type": "scatter",
         "x": [
          "2023-01-02",
          "2023-01-30",
          "2023-02-06",
          "2023-02-13",
          "2023-02-20",
          "2023-02-27",
          "2023-03-06"
         ],
         "xaxis": "x",
         "y": [
          0,
          225,
          225,
          475,
          775,
          775,
          775
         ],
         "yaxis": "y"
        },
        {
         "hovertemplate": "Player=Andrey Rublev<br>Week Beginning=%{x}<br>Total Points=%{y}<extra></extra>",
         "legendgroup": "Andrey Rublev",
         "line": {
          "color": "#FECB52",
          "dash": "solid"
         },
         "marker": {
          "symbol": "circle"
         },
         "mode": "markers+lines",
         "name": "Andrey Rublev",
         "orientation": "v",
         "showlegend": true,
         "type": "scatter",
         "x": [
          "2023-01-02",
          "2023-01-30",
          "2023-02-06",
          "2023-02-13",
          "2023-02-20",
          "2023-02-27",
          "2023-03-06"
         ],
         "xaxis": "x",
         "y": [
          0,
          360,
          360,
          360,
          360,
          405,
          705
         ],
         "yaxis": "y"
        }
       ],
       "layout": {
        "legend": {
         "title": {
          "text": "Player"
         },
         "tracegroupgap": 0
        },
        "margin": {
         "t": 60
        },
        "template": {
         "data": {
          "bar": [
           {
            "error_x": {
             "color": "#2a3f5f"
            },
            "error_y": {
             "color": "#2a3f5f"
            },
            "marker": {
             "line": {
              "color": "#E5ECF6",
              "width": 0.5
             },
             "pattern": {
              "fillmode": "overlay",
              "size": 10,
              "solidity": 0.2
             }
            },
            "type": "bar"
           }
          ],
          "barpolar": [
           {
            "marker": {
             "line": {
              "color": "#E5ECF6",
              "width": 0.5
             },
             "pattern": {
              "fillmode": "overlay",
              "size": 10,
              "solidity": 0.2
             }
            },
            "type": "barpolar"
           }
          ],
          "carpet": [
           {
            "aaxis": {
             "endlinecolor": "#2a3f5f",
             "gridcolor": "white",
             "linecolor": "white",
             "minorgridcolor": "white",
             "startlinecolor": "#2a3f5f"
            },
            "baxis": {
             "endlinecolor": "#2a3f5f",
             "gridcolor": "white",
             "linecolor": "white",
             "minorgridcolor": "white",
             "startlinecolor": "#2a3f5f"
            },
            "type": "carpet"
           }
          ],
          "choropleth": [
           {
            "colorbar": {
             "outlinewidth": 0,
             "ticks": ""
            },
            "type": "choropleth"
           }
          ],
          "contour": [
           {
            "colorbar": {
             "outlinewidth": 0,
             "ticks": ""
            },
            "colorscale": [
             [
              0,
              "#0d0887"
             ],
             [
              0.1111111111111111,
              "#46039f"
             ],
             [
              0.2222222222222222,
              "#7201a8"
             ],
             [
              0.3333333333333333,
              "#9c179e"
             ],
             [
              0.4444444444444444,
              "#bd3786"
             ],
             [
              0.5555555555555556,
              "#d8576b"
             ],
             [
              0.6666666666666666,
              "#ed7953"
             ],
             [
              0.7777777777777778,
              "#fb9f3a"
             ],
             [
              0.8888888888888888,
              "#fdca26"
             ],
             [
              1,
              "#f0f921"
             ]
            ],
            "type": "contour"
           }
          ],
          "contourcarpet": [
           {
            "colorbar": {
             "outlinewidth": 0,
             "ticks": ""
            },
            "type": "contourcarpet"
           }
          ],
          "heatmap": [
           {
            "colorbar": {
             "outlinewidth": 0,
             "ticks": ""
            },
            "colorscale": [
             [
              0,
              "#0d0887"
             ],
             [
              0.1111111111111111,
              "#46039f"
             ],
             [
              0.2222222222222222,
              "#7201a8"
             ],
             [
              0.3333333333333333,
              "#9c179e"
             ],
             [
              0.4444444444444444,
              "#bd3786"
             ],
             [
              0.5555555555555556,
              "#d8576b"
             ],
             [
              0.6666666666666666,
              "#ed7953"
             ],
             [
              0.7777777777777778,
              "#fb9f3a"
             ],
             [
              0.8888888888888888,
              "#fdca26"
             ],
             [
              1,
              "#f0f921"
             ]
            ],
            "type": "heatmap"
           }
          ],
          "heatmapgl": [
           {
            "colorbar": {
             "outlinewidth": 0,
             "ticks": ""
            },
            "colorscale": [
             [
              0,
              "#0d0887"
             ],
             [
              0.1111111111111111,
              "#46039f"
             ],
             [
              0.2222222222222222,
              "#7201a8"
             ],
             [
              0.3333333333333333,
              "#9c179e"
             ],
             [
              0.4444444444444444,
              "#bd3786"
             ],
             [
              0.5555555555555556,
              "#d8576b"
             ],
             [
              0.6666666666666666,
              "#ed7953"
             ],
             [
              0.7777777777777778,
              "#fb9f3a"
             ],
             [
              0.8888888888888888,
              "#fdca26"
             ],
             [
              1,
              "#f0f921"
             ]
            ],
            "type": "heatmapgl"
           }
          ],
          "histogram": [
           {
            "marker": {
             "pattern": {
              "fillmode": "overlay",
              "size": 10,
              "solidity": 0.2
             }
            },
            "type": "histogram"
           }
          ],
          "histogram2d": [
           {
            "colorbar": {
             "outlinewidth": 0,
             "ticks": ""
            },
            "colorscale": [
             [
              0,
              "#0d0887"
             ],
             [
              0.1111111111111111,
              "#46039f"
             ],
             [
              0.2222222222222222,
              "#7201a8"
             ],
             [
              0.3333333333333333,
              "#9c179e"
             ],
             [
              0.4444444444444444,
              "#bd3786"
             ],
             [
              0.5555555555555556,
              "#d8576b"
             ],
             [
              0.6666666666666666,
              "#ed7953"
             ],
             [
              0.7777777777777778,
              "#fb9f3a"
             ],
             [
              0.8888888888888888,
              "#fdca26"
             ],
             [
              1,
              "#f0f921"
             ]
            ],
            "type": "histogram2d"
           }
          ],
          "histogram2dcontour": [
           {
            "colorbar": {
             "outlinewidth": 0,
             "ticks": ""
            },
            "colorscale": [
             [
              0,
              "#0d0887"
             ],
             [
              0.1111111111111111,
              "#46039f"
             ],
             [
              0.2222222222222222,
              "#7201a8"
             ],
             [
              0.3333333333333333,
              "#9c179e"
             ],
             [
              0.4444444444444444,
              "#bd3786"
             ],
             [
              0.5555555555555556,
              "#d8576b"
             ],
             [
              0.6666666666666666,
              "#ed7953"
             ],
             [
              0.7777777777777778,
              "#fb9f3a"
             ],
             [
              0.8888888888888888,
              "#fdca26"
             ],
             [
              1,
              "#f0f921"
             ]
            ],
            "type": "histogram2dcontour"
           }
          ],
          "mesh3d": [
           {
            "colorbar": {
             "outlinewidth": 0,
             "ticks": ""
            },
            "type": "mesh3d"
           }
          ],
          "parcoords": [
           {
            "line": {
             "colorbar": {
              "outlinewidth": 0,
              "ticks": ""
             }
            },
            "type": "parcoords"
           }
          ],
          "pie": [
           {
            "automargin": true,
            "type": "pie"
           }
          ],
          "scatter": [
           {
            "fillpattern": {
             "fillmode": "overlay",
             "size": 10,
             "solidity": 0.2
            },
            "type": "scatter"
           }
          ],
          "scatter3d": [
           {
            "line": {
             "colorbar": {
              "outlinewidth": 0,
              "ticks": ""
             }
            },
            "marker": {
             "colorbar": {
              "outlinewidth": 0,
              "ticks": ""
             }
            },
            "type": "scatter3d"
           }
          ],
          "scattercarpet": [
           {
            "marker": {
             "colorbar": {
              "outlinewidth": 0,
              "ticks": ""
             }
            },
            "type": "scattercarpet"
           }
          ],
          "scattergeo": [
           {
            "marker": {
             "colorbar": {
              "outlinewidth": 0,
              "ticks": ""
             }
            },
            "type": "scattergeo"
           }
          ],
          "scattergl": [
           {
            "marker": {
             "colorbar": {
              "outlinewidth": 0,
              "ticks": ""
             }
            },
            "type": "scattergl"
           }
          ],
          "scattermapbox": [
           {
            "marker": {
             "colorbar": {
              "outlinewidth": 0,
              "ticks": ""
             }
            },
            "type": "scattermapbox"
           }
          ],
          "scatterpolar": [
           {
            "marker": {
             "colorbar": {
              "outlinewidth": 0,
              "ticks": ""
             }
            },
            "type": "scatterpolar"
           }
          ],
          "scatterpolargl": [
           {
            "marker": {
             "colorbar": {
              "outlinewidth": 0,
              "ticks": ""
             }
            },
            "type": "scatterpolargl"
           }
          ],
          "scatterternary": [
           {
            "marker": {
             "colorbar": {
              "outlinewidth": 0,
              "ticks": ""
             }
            },
            "type": "scatterternary"
           }
          ],
          "surface": [
           {
            "colorbar": {
             "outlinewidth": 0,
             "ticks": ""
            },
            "colorscale": [
             [
              0,
              "#0d0887"
             ],
             [
              0.1111111111111111,
              "#46039f"
             ],
             [
              0.2222222222222222,
              "#7201a8"
             ],
             [
              0.3333333333333333,
              "#9c179e"
             ],
             [
              0.4444444444444444,
              "#bd3786"
             ],
             [
              0.5555555555555556,
              "#d8576b"
             ],
             [
              0.6666666666666666,
              "#ed7953"
             ],
             [
              0.7777777777777778,
              "#fb9f3a"
             ],
             [
              0.8888888888888888,
              "#fdca26"
             ],
             [
              1,
              "#f0f921"
             ]
            ],
            "type": "surface"
           }
          ],
          "table": [
           {
            "cells": {
             "fill": {
              "color": "#EBF0F8"
             },
             "line": {
              "color": "white"
             }
            },
            "header": {
             "fill": {
              "color": "#C8D4E3"
             },
             "line": {
              "color": "white"
             }
            },
            "type": "table"
           }
          ]
         },
         "layout": {
          "annotationdefaults": {
           "arrowcolor": "#2a3f5f",
           "arrowhead": 0,
           "arrowwidth": 1
          },
          "autotypenumbers": "strict",
          "coloraxis": {
           "colorbar": {
            "outlinewidth": 0,
            "ticks": ""
           }
          },
          "colorscale": {
           "diverging": [
            [
             0,
             "#8e0152"
            ],
            [
             0.1,
             "#c51b7d"
            ],
            [
             0.2,
             "#de77ae"
            ],
            [
             0.3,
             "#f1b6da"
            ],
            [
             0.4,
             "#fde0ef"
            ],
            [
             0.5,
             "#f7f7f7"
            ],
            [
             0.6,
             "#e6f5d0"
            ],
            [
             0.7,
             "#b8e186"
            ],
            [
             0.8,
             "#7fbc41"
            ],
            [
             0.9,
             "#4d9221"
            ],
            [
             1,
             "#276419"
            ]
           ],
           "sequential": [
            [
             0,
             "#0d0887"
            ],
            [
             0.1111111111111111,
             "#46039f"
            ],
            [
             0.2222222222222222,
             "#7201a8"
            ],
            [
             0.3333333333333333,
             "#9c179e"
            ],
            [
             0.4444444444444444,
             "#bd3786"
            ],
            [
             0.5555555555555556,
             "#d8576b"
            ],
            [
             0.6666666666666666,
             "#ed7953"
            ],
            [
             0.7777777777777778,
             "#fb9f3a"
            ],
            [
             0.8888888888888888,
             "#fdca26"
            ],
            [
             1,
             "#f0f921"
            ]
           ],
           "sequentialminus": [
            [
             0,
             "#0d0887"
            ],
            [
             0.1111111111111111,
             "#46039f"
            ],
            [
             0.2222222222222222,
             "#7201a8"
            ],
            [
             0.3333333333333333,
             "#9c179e"
            ],
            [
             0.4444444444444444,
             "#bd3786"
            ],
            [
             0.5555555555555556,
             "#d8576b"
            ],
            [
             0.6666666666666666,
             "#ed7953"
            ],
            [
             0.7777777777777778,
             "#fb9f3a"
            ],
            [
             0.8888888888888888,
             "#fdca26"
            ],
            [
             1,
             "#f0f921"
            ]
           ]
          },
          "colorway": [
           "#636efa",
           "#EF553B",
           "#00cc96",
           "#ab63fa",
           "#FFA15A",
           "#19d3f3",
           "#FF6692",
           "#B6E880",
           "#FF97FF",
           "#FECB52"
          ],
          "font": {
           "color": "#2a3f5f"
          },
          "geo": {
           "bgcolor": "white",
           "lakecolor": "white",
           "landcolor": "#E5ECF6",
           "showlakes": true,
           "showland": true,
           "subunitcolor": "white"
          },
          "hoverlabel": {
           "align": "left"
          },
          "hovermode": "closest",
          "mapbox": {
           "style": "light"
          },
          "paper_bgcolor": "white",
          "plot_bgcolor": "#E5ECF6",
          "polar": {
           "angularaxis": {
            "gridcolor": "white",
            "linecolor": "white",
            "ticks": ""
           },
           "bgcolor": "#E5ECF6",
           "radialaxis": {
            "gridcolor": "white",
            "linecolor": "white",
            "ticks": ""
           }
          },
          "scene": {
           "xaxis": {
            "backgroundcolor": "#E5ECF6",
            "gridcolor": "white",
            "gridwidth": 2,
            "linecolor": "white",
            "showbackground": true,
            "ticks": "",
            "zerolinecolor": "white"
           },
           "yaxis": {
            "backgroundcolor": "#E5ECF6",
            "gridcolor": "white",
            "gridwidth": 2,
            "linecolor": "white",
            "showbackground": true,
            "ticks": "",
            "zerolinecolor": "white"
           },
           "zaxis": {
            "backgroundcolor": "#E5ECF6",
            "gridcolor": "white",
            "gridwidth": 2,
            "linecolor": "white",
            "showbackground": true,
            "ticks": "",
            "zerolinecolor": "white"
           }
          },
          "shapedefaults": {
           "line": {
            "color": "#2a3f5f"
           }
          },
          "ternary": {
           "aaxis": {
            "gridcolor": "white",
            "linecolor": "white",
            "ticks": ""
           },
           "baxis": {
            "gridcolor": "white",
            "linecolor": "white",
            "ticks": ""
           },
           "bgcolor": "#E5ECF6",
           "caxis": {
            "gridcolor": "white",
            "linecolor": "white",
            "ticks": ""
           }
          },
          "title": {
           "x": 0.05
          },
          "xaxis": {
           "automargin": true,
           "gridcolor": "white",
           "linecolor": "white",
           "ticks": "",
           "title": {
            "standoff": 15
           },
           "zerolinecolor": "white",
           "zerolinewidth": 2
          },
          "yaxis": {
           "automargin": true,
           "gridcolor": "white",
           "linecolor": "white",
           "ticks": "",
           "title": {
            "standoff": 15
           },
           "zerolinecolor": "white",
           "zerolinewidth": 2
          }
         }
        },
        "xaxis": {
         "anchor": "y",
         "domain": [
          0,
          1
         ],
         "title": {
          "text": "Week Beginning"
         }
        },
        "yaxis": {
         "anchor": "x",
         "domain": [
          0,
          1
         ],
         "title": {
          "text": "Total Points"
         }
        }
       }
      }
     },
     "metadata": {},
     "output_type": "display_data"
    }
   ],
   "source": [
    "# This looks pretty class\n",
    "fig = px.line(\n",
    "    all_top_10_points, \n",
    "    x='week_begin', \n",
    "    y='player_total_points', \n",
    "    markers=True, \n",
    "    color='player_name',\n",
    "    labels = {\n",
    "    'week_begin':'Week Beginning',\n",
    "    'player_total_points':'Total Points',\n",
    "    'player_name':'Player'\n",
    "    })\n",
    "fig"
   ]
  },
  {
   "cell_type": "code",
   "execution_count": null,
   "metadata": {},
   "outputs": [],
   "source": []
  }
 ],
 "metadata": {
  "kernelspec": {
   "display_name": "Python 3",
   "language": "python",
   "name": "python3"
  },
  "language_info": {
   "codemirror_mode": {
    "name": "ipython",
    "version": 3
   },
   "file_extension": ".py",
   "mimetype": "text/x-python",
   "name": "python",
   "nbconvert_exporter": "python",
   "pygments_lexer": "ipython3",
   "version": "3.11.1"
  },
  "orig_nbformat": 4
 },
 "nbformat": 4,
 "nbformat_minor": 2
}
