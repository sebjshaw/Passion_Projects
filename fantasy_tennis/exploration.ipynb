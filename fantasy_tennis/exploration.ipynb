{
 "cells": [
  {
   "cell_type": "code",
   "execution_count": null,
   "metadata": {},
   "outputs": [],
   "source": [
    "import sqlwrapper\n",
    "import pandas as pd \n",
    "\n",
    "def connect_to_database(path: str) -> sqlwrapper.SQLConnection: \n",
    "    \"\"\"Establishes a connection with the local database to allow querying of the data  \n",
    "\n",
    "    Args:\n",
    "        path (str): the path to the database\n",
    "\n",
    "    Returns:\n",
    "        sqlwrapper.SQLConnection: the connection established with the database\n",
    "    \"\"\"\n",
    "\n",
    "    try:\n",
    "        db = sqlwrapper.SQLConnection(path)\n",
    "    except:\n",
    "        print(\"Connection failed\")\n",
    "    \n",
    "    return db\n",
    "\n",
    "db = connect_to_database('./fantasy_tennis/players_points.db')\n",
    "\n",
    "\n",
    "res = db.select(\"\"\"\n",
    "    SELECT * FROM players_points\n",
    "    WHERE player_name == 'Novak Djokovic'\n",
    "\"\"\")\n",
    "\n",
    "print(res)"
   ]
  }
 ],
 "metadata": {
  "language_info": {
   "name": "python"
  },
  "orig_nbformat": 4
 },
 "nbformat": 4,
 "nbformat_minor": 2
}
