{
 "cells": [
  {
   "attachments": {},
   "cell_type": "markdown",
   "metadata": {},
   "source": [
    "# Notebook for exploring and testing the data "
   ]
  },
  {
   "cell_type": "code",
   "execution_count": 20,
   "metadata": {},
   "outputs": [],
   "source": [
    "import sqlwrapper\n",
    "import pandas as pd \n",
    "from datetime import datetime \n",
    "from dateutil.relativedelta import relativedelta, MO\n",
    "\n",
    "def connect_to_database(path: str) -> sqlwrapper.SQLConnection: \n",
    "    \"\"\"Establishes a connection with the local database to allow querying of the data  \n",
    "\n",
    "    Args:\n",
    "        path (str): the path to the database\n",
    "\n",
    "    Returns:\n",
    "        sqlwrapper.SQLConnection: the connection established with the database\n",
    "    \"\"\"\n",
    "\n",
    "    try:\n",
    "        db = sqlwrapper.SQLConnection(path)\n",
    "    except:\n",
    "        print(\"Connection failed\")\n",
    "    \n",
    "    return db\n",
    "\n",
    "db = connect_to_database('/Users/seb/Desktop/passion_projects/fantasy_tennis/players_points.db')"
   ]
  },
  {
   "attachments": {},
   "cell_type": "markdown",
   "metadata": {},
   "source": [
    "## Backfilling the database with the previous weeks data "
   ]
  },
  {
   "cell_type": "code",
   "execution_count": 6,
   "metadata": {},
   "outputs": [],
   "source": [
    "from main import get_html_soup, parse_tags_from_soup\n",
    "\n",
    "def create_dataframe_of_this_weeks_total_points(player_names: list, player_points: list, week_begin: str) -> pd.DataFrame:\n",
    "    new_player_names = []\n",
    "    for name in player_names:\n",
    "        split_name = name.split(' ') # splits name \n",
    "        first_name = split_name[len(split_name) - 1] # takes last word (the players first name)\n",
    "        last_name = name.replace(f' {first_name}', '') # removes first name from original string to leave last name only \n",
    "        new_player_names.append(f\"{first_name} {last_name}\") # recombines first and last name and adds to new list\n",
    "\n",
    "    # week_begin = str((datetime.today() - relativedelta(weekday=MO(-1))).date())\n",
    "    week_begin_list = [week_begin for i in range(250)]\n",
    "    df = pd.DataFrame(list(zip(new_player_names, player_points, week_begin_list)), columns=['player_name', 'player_total_points', 'week_begin'])\n",
    "\n",
    "    return df\n"
   ]
  },
  {
   "cell_type": "code",
   "execution_count": 15,
   "metadata": {},
   "outputs": [
    {
     "name": "stdout",
     "output_type": "stream",
     "text": [
      "Successfully appended new points totals\n"
     ]
    }
   ],
   "source": [
    "week_begin = '2023-01-30'\n",
    "URLS = {\n",
    "    \"0-50\":\"https://www.tennisexplorer.com/ranking/atp-men/?date=2023-01-30&t=race\", \n",
    "    \"51-100\":\"https://www.tennisexplorer.com/ranking/atp-men/?t=race&date=2023-01-30&page=2\",\n",
    "    \"101-150\":\"https://www.tennisexplorer.com/ranking/atp-men/?t=race&date=2023-01-30&page=3\",\n",
    "    \"151-200\":\"https://www.tennisexplorer.com/ranking/atp-men/?t=race&date=2023-01-30&page=4\",\n",
    "    \"201-250\":\"https://www.tennisexplorer.com/ranking/atp-men/?t=race&date=2023-01-30&page=5\"\n",
    "}\n",
    "weeks_names = []\n",
    "weeks_points = []\n",
    "for url in URLS:\n",
    "    soup = get_html_soup(URLS[url])\n",
    "    weeks_names = parse_tags_from_soup(soup, 't-name', weeks_names)\n",
    "    weeks_points = parse_tags_from_soup(soup, 'long-point', weeks_points)\n",
    "    weeks_points.remove('Points')\n",
    "df = create_dataframe_of_this_weeks_total_points(weeks_names, weeks_points, week_begin)\n",
    "print(db.append(df))"
   ]
  },
  {
   "attachments": {},
   "cell_type": "markdown",
   "metadata": {},
   "source": [
    "## Querying data from database"
   ]
  },
  {
   "cell_type": "code",
   "execution_count": 21,
   "metadata": {},
   "outputs": [
    {
     "name": "stdout",
     "output_type": "stream",
     "text": [
      "      player_name  player_total_points  week_begin\n",
      "0  Sebastian Baez                  260  2023-02-13\n",
      "1  Sebastian Baez                  260  2023-02-20\n",
      "2  Sebastian Baez                  350  2023-02-27\n",
      "3  Sebastian Baez                  440  2023-03-06\n"
     ]
    }
   ],
   "source": [
    "res = db.select(\"\"\"\n",
    "    SELECT * FROM players_points\n",
    "    WHERE player_name == 'Sebastian Baez'\n",
    "\"\"\")\n",
    "\n",
    "print(res)"
   ]
  },
  {
   "cell_type": "code",
   "execution_count": null,
   "metadata": {},
   "outputs": [],
   "source": []
  }
 ],
 "metadata": {
  "kernelspec": {
   "display_name": "Python 3",
   "language": "python",
   "name": "python3"
  },
  "language_info": {
   "codemirror_mode": {
    "name": "ipython",
    "version": 3
   },
   "file_extension": ".py",
   "mimetype": "text/x-python",
   "name": "python",
   "nbconvert_exporter": "python",
   "pygments_lexer": "ipython3",
   "version": "3.11.1"
  },
  "orig_nbformat": 4
 },
 "nbformat": 4,
 "nbformat_minor": 2
}
